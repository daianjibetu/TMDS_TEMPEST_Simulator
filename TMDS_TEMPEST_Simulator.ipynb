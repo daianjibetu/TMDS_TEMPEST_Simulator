{
  "nbformat": 4,
  "nbformat_minor": 0,
  "metadata": {
    "colab": {
      "name": "TMDS_TEMPEST_Simulator.ipynb",
      "provenance": [],
      "collapsed_sections": [],
      "mount_file_id": "1UF7qOAS8KNQurqochyxbtBwx8MgGzlFX",
      "authorship_tag": "ABX9TyNxtFZ9AnJKO6WfyAdJ+/u6",
      "include_colab_link": true
    },
    "kernelspec": {
      "name": "python3",
      "display_name": "Python 3"
    }
  },
  "cells": [
    {
      "cell_type": "markdown",
      "metadata": {
        "id": "view-in-github",
        "colab_type": "text"
      },
      "source": [
        "<a href=\"https://colab.research.google.com/github/daianjibetu/TMDS_TEMPEST_Simulator/blob/main/TMDS_TEMPEST_Simulator.ipynb\" target=\"_parent\"><img src=\"https://colab.research.google.com/assets/colab-badge.svg\" alt=\"Open In Colab\"/></a>"
      ]
    },
    {
      "cell_type": "markdown",
      "metadata": {
        "id": "jD9mfEdQVMgK"
      },
      "source": [
        "2進数に変換"
      ]
    },
    {
      "cell_type": "code",
      "metadata": {
        "id": "XDb6hHB8EMzp"
      },
      "source": [
        "def IntToBits(indata):\n",
        "    outdata = []\n",
        "    \n",
        "    for element in indata:\n",
        "        str_array = list(format(element, '08b'))\n",
        "        outdata.append([int(s) for s in str_array])\n",
        "    \n",
        "    return outdata"
      ],
      "execution_count": null,
      "outputs": []
    },
    {
      "cell_type": "markdown",
      "metadata": {
        "id": "iEBB8mBMVQ0l"
      },
      "source": [
        "ビット順序反転"
      ]
    },
    {
      "cell_type": "code",
      "metadata": {
        "id": "Ht-WeD5plrxG"
      },
      "source": [
        "def BitsReverse(indata):\n",
        "    outdata = []\n",
        "\n",
        "    for elements in indata:\n",
        "        outdata.append(list(reversed(elements)))\n",
        "\n",
        "    return outdata"
      ],
      "execution_count": null,
      "outputs": []
    },
    {
      "cell_type": "markdown",
      "metadata": {
        "id": "olwPCHqsnzat"
      },
      "source": [
        "XNORプロセス"
      ]
    },
    {
      "cell_type": "code",
      "metadata": {
        "id": "QkarcUsxjt9y"
      },
      "source": [
        "def XNOR(indata, isEncode):\n",
        "    outdata = []\n",
        "\n",
        "    outdata.append(indata[0])\n",
        "    for i in range(1,8):\n",
        "        if isEncode:\n",
        "            if (outdata[i - 1] == indata[i]):\n",
        "                outdata.append(1)\n",
        "            else:\n",
        "                outdata.append(0)\n",
        "        else:\n",
        "            if (indata[i - 1] == indata[i]):\n",
        "                outdata.append(1)\n",
        "            else:\n",
        "                outdata.append(0)\n",
        "    \n",
        "    if isEncode:\n",
        "        outdata.append(0)\n",
        "\n",
        "    return outdata"
      ],
      "execution_count": null,
      "outputs": []
    },
    {
      "cell_type": "markdown",
      "metadata": {
        "id": "f2H2UXubnxYs"
      },
      "source": [
        "XORプロセス"
      ]
    },
    {
      "cell_type": "code",
      "metadata": {
        "id": "2BeBonIQaXpp"
      },
      "source": [
        "def XOR(indata, isEncode):\n",
        "    outdata = []\n",
        "\n",
        "    outdata.append(indata[0])\n",
        "    for i in range(1,8):\n",
        "        if isEncode:\n",
        "            if (outdata[i - 1] == indata[i]):\n",
        "                outdata.append(0)\n",
        "            else:\n",
        "                outdata.append(1)\n",
        "        else:\n",
        "            if (indata[i - 1] == indata[i]):\n",
        "                outdata.append(0)\n",
        "            else:\n",
        "                outdata.append(1)\n",
        "    \n",
        "    if isEncode:\n",
        "        outdata.append(1)\n",
        "\n",
        "    return outdata"
      ],
      "execution_count": null,
      "outputs": []
    },
    {
      "cell_type": "markdown",
      "metadata": {
        "id": "uu2HVzM-n1sf"
      },
      "source": [
        "Transition Minimized（遷移時間最短）"
      ]
    },
    {
      "cell_type": "code",
      "metadata": {
        "id": "loKQ5HCSW7rj"
      },
      "source": [
        "def TransitionMinimized(indata):\n",
        "    outdata = []\n",
        "\n",
        "    for elements in indata:\n",
        "        ones = sum(elements)\n",
        "        if (ones > 4 or (ones == 4 and elements[0] == 0)):\n",
        "            outdata.append(XNOR(elements, True))\n",
        "        else:\n",
        "            outdata.append(XOR(elements, True))\n",
        "    \n",
        "    return outdata"
      ],
      "execution_count": null,
      "outputs": []
    },
    {
      "cell_type": "markdown",
      "metadata": {
        "id": "L-y5rcfF3ceC"
      },
      "source": [
        "ビット反転"
      ]
    },
    {
      "cell_type": "code",
      "metadata": {
        "id": "6FRzwY-s3cvh"
      },
      "source": [
        "def inv(bit):\n",
        "    if(bit == 0):   \n",
        "        return 1\n",
        "    else:\n",
        "        return 0"
      ],
      "execution_count": null,
      "outputs": []
    },
    {
      "cell_type": "markdown",
      "metadata": {
        "id": "LVakCnbQuGRG"
      },
      "source": [
        "Throughプロセス"
      ]
    },
    {
      "cell_type": "code",
      "metadata": {
        "id": "NGC9QGNmuG09"
      },
      "source": [
        "def Through(indata, isEncode):\n",
        "    outdata = []\n",
        "\n",
        "    for i in range(8):\n",
        "        outdata.append(indata[i])\n",
        "    \n",
        "    outdata.append(indata[8])\n",
        "    \n",
        "    if isEncode:\n",
        "        outdata.append(0)\n",
        "\n",
        "    return outdata"
      ],
      "execution_count": null,
      "outputs": []
    },
    {
      "cell_type": "markdown",
      "metadata": {
        "id": "GT4E9_MuuP3q"
      },
      "source": [
        "Inverseプロセス"
      ]
    },
    {
      "cell_type": "code",
      "metadata": {
        "id": "LSG81Ss5uWgx"
      },
      "source": [
        "def Inverse(indata, isEncode):\n",
        "    outdata = []\n",
        "\n",
        "    for i in range(8):\n",
        "        outdata.append(inv(indata[i]))\n",
        "    \n",
        "    outdata.append(indata[8])\n",
        "    \n",
        "    if isEncode:\n",
        "        outdata.append(1)\n",
        "\n",
        "    return outdata"
      ],
      "execution_count": null,
      "outputs": []
    },
    {
      "cell_type": "markdown",
      "metadata": {
        "id": "Q_18V7hnti55"
      },
      "source": [
        "DC-Balancing（DCバランス）"
      ]
    },
    {
      "cell_type": "code",
      "metadata": {
        "id": "t-mda1h9st5W"
      },
      "source": [
        "def DCBalancing(indata):\n",
        "    outdata = []\n",
        "\n",
        "    cnt = 0\n",
        "\n",
        "    for elements in indata:\n",
        "        zeros = 0\n",
        "        ones = 0\n",
        "        for i in range(8):\n",
        "            ones += elements[i]\n",
        "        zeros = 8 - ones\n",
        "        \n",
        "        if (cnt == 0 or zeros == ones):\n",
        "            if (elements[8] == 0):\n",
        "                outdata.append(Inverse(elements, True))\n",
        "                cnt += (zeros - ones)\n",
        "            else:\n",
        "                outdata.append(Through(elements, True))\n",
        "                cnt += (ones - zeros)\n",
        "        else:\n",
        "            if ((cnt > 0 and ones > zeros) or (cnt < 0 and zeros > ones)):\n",
        "                outdata.append(Inverse(elements, True))\n",
        "                cnt += ((zeros - ones) + 2 * elements[8])\n",
        "            else:\n",
        "                outdata.append(Through(elements, True))\n",
        "                cnt += ((ones - zeros) - 2 * inv(elements[8]))\n",
        "    \n",
        "    return outdata"
      ],
      "execution_count": null,
      "outputs": []
    },
    {
      "cell_type": "markdown",
      "metadata": {
        "id": "9WfrnMSlhVGD"
      },
      "source": [
        "エンコード"
      ]
    },
    {
      "cell_type": "code",
      "metadata": {
        "id": "RsLMwKvLhXoq"
      },
      "source": [
        "def TMDSEncode(indata):\n",
        "    tmpdata = TransitionMinimized(indata)\n",
        "    outdata = DCBalancing(tmpdata)\n",
        "\n",
        "    return outdata"
      ],
      "execution_count": null,
      "outputs": []
    },
    {
      "cell_type": "markdown",
      "metadata": {
        "id": "DeEsGM_sjLYA"
      },
      "source": [
        "実行用"
      ]
    },
    {
      "cell_type": "code",
      "metadata": {
        "id": "W-S4RUb4mNag"
      },
      "source": [
        "import numpy as np\n",
        "\n",
        "from PIL import Image\n",
        "from google.colab import files\n",
        "from tqdm.notebook import tqdm"
      ],
      "execution_count": null,
      "outputs": []
    },
    {
      "cell_type": "markdown",
      "metadata": {
        "id": "O4ifvvbOj858"
      },
      "source": [
        "画像アップロード"
      ]
    },
    {
      "cell_type": "code",
      "metadata": {
        "id": "ytZg_4iGmRVH"
      },
      "source": [
        "file = files.upload()\n",
        "file_name = list(file.keys())[0]\n",
        "#file_name = \"\"\n",
        "img = Image.open(file_name)"
      ],
      "execution_count": null,
      "outputs": []
    },
    {
      "cell_type": "markdown",
      "metadata": {
        "id": "_oGnGvMnj_2g"
      },
      "source": [
        "グレースケールに変換"
      ]
    },
    {
      "cell_type": "code",
      "metadata": {
        "id": "i9EevtY5mTne"
      },
      "source": [
        "gray_img = img.convert(\"L\")"
      ],
      "execution_count": null,
      "outputs": []
    },
    {
      "cell_type": "markdown",
      "metadata": {
        "id": "2UA5JMC8xUKr"
      },
      "source": [
        "画像からNumPy配列に"
      ]
    },
    {
      "cell_type": "code",
      "metadata": {
        "id": "W0WgRGdhlHcW"
      },
      "source": [
        "img_array = np.array(gray_img)\n",
        "\n",
        "print(img_array.shape)"
      ],
      "execution_count": null,
      "outputs": []
    },
    {
      "cell_type": "markdown",
      "metadata": {
        "id": "orTl34YPxd1h"
      },
      "source": [
        "エンコード処理"
      ]
    },
    {
      "cell_type": "code",
      "metadata": {
        "id": "ribZdkYMoOuW"
      },
      "source": [
        "outdata = []\n",
        "\n",
        "for elements in tqdm(img_array):\n",
        "\n",
        "    array_1 = IntToBits(elements.tolist())\n",
        "    array_2 = BitsReverse(array_1)\n",
        "    array_3 = TMDSEncode(array_2)\n",
        "\n",
        "    outdata.append(array_3)"
      ],
      "execution_count": null,
      "outputs": []
    },
    {
      "cell_type": "markdown",
      "metadata": {
        "id": "EVi2s0DEkXDF"
      },
      "source": [
        "メイン処理"
      ]
    },
    {
      "cell_type": "code",
      "metadata": {
        "id": "AySHI6-scI8-"
      },
      "source": [
        "for i, row in enumerate(tqdm(outdata)):\n",
        "    for j, col in enumerate(row):\n",
        "        if col[-1]:\n",
        "            img_array[i][j] = ~img_array[i][j] & 255"
      ],
      "execution_count": null,
      "outputs": []
    },
    {
      "cell_type": "markdown",
      "metadata": {
        "id": "V9kva-tnxj5x"
      },
      "source": [
        "NumPy配列から画像に"
      ]
    },
    {
      "cell_type": "code",
      "metadata": {
        "id": "q23gDSouvNAR"
      },
      "source": [
        "new_img = Image.fromarray(np.uint8(img_array))"
      ],
      "execution_count": null,
      "outputs": []
    },
    {
      "cell_type": "markdown",
      "metadata": {
        "id": "i3lNYwOqkq6J"
      },
      "source": [
        "画像のダウンロード"
      ]
    },
    {
      "cell_type": "code",
      "metadata": {
        "id": "6HNpZR-55ctq"
      },
      "source": [
        "new_img.save(\"new_img.png\")\n",
        "files.download(\"new_img.png\")"
      ],
      "execution_count": null,
      "outputs": []
    }
  ]
}